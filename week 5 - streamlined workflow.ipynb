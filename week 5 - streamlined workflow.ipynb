{
  "cells": [
    {
      "cell_type": "markdown",
      "id": "53a29a76",
      "metadata": {
        "id": "53a29a76",
        "toc": true
      },
      "source": [
        "<h1>Table of Contents<span class=\"tocSkip\"></span></h1>\n",
        "<div class=\"toc\"><ul class=\"toc-item\"><li><span><a href=\"#Imports\" data-toc-modified-id=\"Imports-1\"><span class=\"toc-item-num\">1&nbsp;&nbsp;</span>Imports</a></span></li><li><span><a href=\"#Config\" data-toc-modified-id=\"Config-2\"><span class=\"toc-item-num\">2&nbsp;&nbsp;</span>Config</a></span></li><li><span><a href=\"#Setup\" data-toc-modified-id=\"Setup-3\"><span class=\"toc-item-num\">3&nbsp;&nbsp;</span>Setup</a></span></li><li><span><a href=\"#Training\" data-toc-modified-id=\"Training-4\"><span class=\"toc-item-num\">4&nbsp;&nbsp;</span>Training</a></span></li><li><span><a href=\"#Generate\" data-toc-modified-id=\"Generate-5\"><span class=\"toc-item-num\">5&nbsp;&nbsp;</span>Generate</a></span></li><li><span><a href=\"#Denoise\" data-toc-modified-id=\"Denoise-6\"><span class=\"toc-item-num\">6&nbsp;&nbsp;</span>Denoise</a></span><ul class=\"toc-item\"><li><span><a href=\"#Noisy-images\" data-toc-modified-id=\"Noisy-images-6.1\"><span class=\"toc-item-num\">6.1&nbsp;&nbsp;</span>Noisy images</a></span></li><li><span><a href=\"#Denoising\" data-toc-modified-id=\"Denoising-6.2\"><span class=\"toc-item-num\">6.2&nbsp;&nbsp;</span>Denoising</a></span></li></ul></li></ul></div>"
      ]
    },
    {
      "cell_type": "markdown",
      "id": "3266e584",
      "metadata": {
        "id": "3266e584"
      },
      "source": [
        "## Imports"
      ]
    },
    {
      "cell_type": "code",
      "execution_count": 1,
      "id": "3a73b370",
      "metadata": {
        "id": "3a73b370",
        "colab": {
          "base_uri": "https://localhost:8080/"
        },
        "outputId": "545a2aab-2ceb-4724-b528-04461a0ca652"
      },
      "outputs": [
        {
          "output_type": "stream",
          "name": "stdout",
          "text": [
            "Cloning into 'diffusion-for-photoacoustic'...\n",
            "remote: Enumerating objects: 73, done.\u001b[K\n",
            "remote: Counting objects: 100% (73/73), done.\u001b[K\n",
            "remote: Compressing objects: 100% (56/56), done.\u001b[K\n",
            "remote: Total 73 (delta 26), reused 47 (delta 13), pack-reused 0\u001b[K\n",
            "Unpacking objects: 100% (73/73), done.\n"
          ]
        }
      ],
      "source": [
        "import functools\n",
        "import torch\n",
        "import tqdm\n",
        "import os\n",
        "import sys\n",
        "import numpy as np\n",
        "import matplotlib.pyplot as plt\n",
        "import torchvision.transforms as transforms\n",
        "from torchvision.datasets import MNIST, FashionMNIST, CIFAR10\n",
        "from torch.optim import Adam\n",
        "from torch.utils.data import DataLoader\n",
        "\n",
        "# import utils from github repo\n",
        "IN_COLAB = 'google.colab' in sys.modules\n",
        "if IN_COLAB:\n",
        "    if os.path.isdir('./diffusion-for-photoacoustic/') == False:\n",
        "        ! git clone https://github.com/snigdhasaha7/diffusion-for-photoacoustic.git\n",
        "    sys.path.append('./diffusion-for-photoacoustic/')\n",
        "\n",
        "import samplers\n",
        "from models import ScoreNet\n",
        "from sdes import Classic, VarianceExploding, VariancePreserving, SubVariancePreserving"
      ]
    },
    {
      "cell_type": "markdown",
      "id": "72d58811",
      "metadata": {
        "id": "72d58811"
      },
      "source": [
        "## Config"
      ]
    },
    {
      "cell_type": "code",
      "execution_count": 2,
      "id": "7caa8eca",
      "metadata": {
        "id": "7caa8eca"
      },
      "outputs": [],
      "source": [
        "n_epochs = 50\n",
        "batch_size = 64\n",
        "lr = 1e-4\n",
        "device = 'cuda'         # ['cuda', 'cpu']\n",
        "dataset = 'CIFAR10'    # ['MNIST', 'FashionMNIST', 'CIFAR10']\n",
        "sde_type = 've'   # ['classic', 'vp', 've', 'subvp']\n",
        "sde_params = [0.01, 5]         # [classic: sigma][vp: b_min, b_max][ve|subve: s_min, s_max]\n",
        "gen_sampler = 'pc'     # ['em', 'pc', 'ode']\n",
        "denoise_sampler = 'pc' # ['em', 'pc']\n",
        "noise_std = .1\n",
        "training = True\n",
        "denoising = True"
      ]
    },
    {
      "cell_type": "markdown",
      "id": "30021d57",
      "metadata": {
        "id": "30021d57"
      },
      "source": [
        "## Setup"
      ]
    },
    {
      "cell_type": "code",
      "execution_count": 3,
      "id": "745e4354",
      "metadata": {
        "id": "745e4354",
        "colab": {
          "base_uri": "https://localhost:8080/",
          "height": 101,
          "referenced_widgets": [
            "7e5ab23a457a40d78c702be539b3dffa",
            "d0da80113ea3496abb3f9c2747ad61f9",
            "40b86686c7cd479392360db7b6c9069e",
            "c19e5ee78e45422f9adcec3aeba4b621",
            "f3a25c24c7b243ccbca8037f06921f39",
            "83ac156f7ae34005bfac52bed88f95b6",
            "a822d7254cca432fb1f6d32932bd4a71",
            "66baf0c27a394a15829f1a94c374dfc3",
            "f6eb67ba5067457dbf9ac4e15a8cf860",
            "95837070cff244bda77f23a6802283a2",
            "e8b4372c47fd4458ba63d15d3fa3a123"
          ]
        },
        "outputId": "cf3415ba-45c1-4774-d7b9-5f163a3698bf"
      },
      "outputs": [
        {
          "output_type": "stream",
          "name": "stdout",
          "text": [
            "Downloading https://www.cs.toronto.edu/~kriz/cifar-10-python.tar.gz to ./cifar-10-python.tar.gz\n"
          ]
        },
        {
          "output_type": "display_data",
          "data": {
            "text/plain": [
              "  0%|          | 0/170498071 [00:00<?, ?it/s]"
            ],
            "application/vnd.jupyter.widget-view+json": {
              "version_major": 2,
              "version_minor": 0,
              "model_id": "7e5ab23a457a40d78c702be539b3dffa"
            }
          },
          "metadata": {}
        },
        {
          "output_type": "stream",
          "name": "stdout",
          "text": [
            "Extracting ./cifar-10-python.tar.gz to .\n",
            "Files already downloaded and verified\n"
          ]
        }
      ],
      "source": [
        "# SDE\n",
        "if sde_type == 've':\n",
        "    SDE = VarianceExploding()\n",
        "    sigma_min, sigma_max = sde_params\n",
        "    params_str = '{}_{}'.format(*sde_params)\n",
        "    marginal_prob_std_fn = functools.partial(SDE.marginal_prob_std, sigma_min=sigma_min, sigma_max=sigma_max)\n",
        "    drift_coeff_fn = functools.partial(SDE.drift_coeff, sigma_min=sigma_min, sigma_max=sigma_max)\n",
        "    diffusion_coeff_fn = functools.partial(SDE.diffusion_coeff, sigma_min=sigma_min, sigma_max=sigma_max)\n",
        "elif sde_type == 'vp':\n",
        "    SDE = VariancePreserving()\n",
        "    beta_min, beta_max = sde_params\n",
        "    params_str = '{}_{}'.format(*sde_params)\n",
        "    marginal_prob_std_fn = functools.partial(SDE.marginal_prob_std, beta_min=beta_min, beta_max=beta_max)\n",
        "    drift_coeff_fn = functools.partial(SDE.drift_coeff, beta_min=beta_min, beta_max=beta_max)\n",
        "    diffusion_coeff_fn = functools.partial(SDE.diffusion_coeff, beta_min=beta_min, beta_max=beta_max)\n",
        "elif sde_type == 'subvp':\n",
        "    SDE = SubVariancePreserving()\n",
        "    beta_min, beta_max = sde_params\n",
        "    params_str = '{}_{}'.format(*sde_params)\n",
        "    marginal_prob_std_fn = functools.partial(SDE.marginal_prob_std, beta_min=beta_min, beta_max=beta_max)\n",
        "    drift_coeff_fn = functools.partial(SDE.drift_coeff, beta_min=beta_min, beta_max=beta_max)\n",
        "    diffusion_coeff_fn = functools.partial(SDE.diffusion_coeff, beta_min=beta_min, beta_max=beta_max)\n",
        "elif sde_type == 'classic':\n",
        "    SDE = Classic()\n",
        "    sigma = sde_params\n",
        "    params_str = '{}'.format(sde_params)\n",
        "    marginal_prob_std_fn = functools.partial(SDE.marginal_prob_std, sigma=sigma)\n",
        "    drift_coeff_fn = functools.partial(SDE.drift_coeff, sigma=sigma)\n",
        "    diffusion_coeff_fn = functools.partial(SDE.diffusion_coeff, sigma=sigma)\n",
        "    \n",
        "# sampler for generation\n",
        "if gen_sampler == 'em':\n",
        "    sampler = samplers.Euler_Maruyama_sampler\n",
        "elif gen_sampler == 'pc':\n",
        "    sampler = samplers.pc_sampler\n",
        "elif gen_sampler == 'ode':\n",
        "    sampler = samplers.ode_sampler\n",
        "\n",
        "# sampler for denoising\n",
        "if denoise_sampler == 'em':\n",
        "    denoiser = samplers.Euler_Maruyama_denoiser\n",
        "elif denoise_sampler == 'pc':\n",
        "    denoiser = samplers.pc_denoiser\n",
        "\n",
        "# training dataset\n",
        "if training:\n",
        "    if dataset == 'MNIST':\n",
        "        train_transforms = transforms.Compose([transforms.ToTensor()])\n",
        "        train_dataset = MNIST('.', train=True, transform=train_transforms, download=True);\n",
        "    elif dataset == 'FashionMNIST':\n",
        "        train_transforms = transforms.Compose([transforms.ToTensor()])\n",
        "        train_dataset = FashionMNIST('.', train=True, transform=train_transforms, download=True);\n",
        "    elif dataset == 'CIFAR10':\n",
        "        train_transforms = transforms.Compose(\n",
        "            [transforms.ToTensor(),\n",
        "             transforms.Normalize((0.5, 0.5, 0.5), (0.5, 0.5, 0.5)),\n",
        "             transforms.Resize((28,28)),\n",
        "             transforms.Grayscale(num_output_channels=1)])\n",
        "        train_dataset = CIFAR10('.', train=True, transform=train_transforms, download=True);\n",
        "    train_loader = DataLoader(train_dataset, batch_size=batch_size, shuffle=True, num_workers=4);\n",
        "\n",
        "# noisy dataset\n",
        "class AddGaussianNoise():\n",
        "    ''' Adds some Gaussian Noise ~ N(0, std^2 I) to an image\n",
        "    '''\n",
        "    # structure for custom transform follows pytorch source code\n",
        "    # https://pytorch.org/vision/stable/_modules/torchvision/transforms/transforms.html\n",
        "    def __init__(self, std=1.):\n",
        "        self.std = std\n",
        "\n",
        "    def __call__(self, image):\n",
        "        ''' Add noise, returns noisy image'''\n",
        "        noise = self.std * torch.randn_like(image)\n",
        "        return image + noise\n",
        "    def __repr__(self):\n",
        "        return f\"{self.__class__.__name__}()\"\n",
        "\n",
        "if denoising:\n",
        "    if dataset == 'MNIST':\n",
        "        test_transforms = transforms.Compose([transforms.ToTensor(), AddGaussianNoise(noise_std)])\n",
        "        test_dataset = MNIST('.', train=False, transform=test_transforms, download=True);\n",
        "    elif dataset == 'FashionMNIST':\n",
        "        test_transforms = transforms.Compose([transforms.ToTensor(), AddGaussianNoise(noise_std)])\n",
        "        test_dataset = FashionMNIST('.', train=False, transform=test_transforms, download=True);\n",
        "    elif dataset == 'CIFAR10':\n",
        "        test_transforms = transforms.Compose(\n",
        "            [transforms.ToTensor(),\n",
        "             transforms.Normalize((0.5, 0.5, 0.5), (0.5, 0.5, 0.5)),\n",
        "             transforms.Resize((28,28)),\n",
        "             transforms.Grayscale(num_output_channels=1),\n",
        "             AddGaussianNoise(noise_std)])\n",
        "        test_dataset = CIFAR10('.', train=False, transform=test_transforms, download=True);\n",
        "    test_loader = DataLoader(test_dataset, batch_size=batch_size, shuffle=True, num_workers=4);\n",
        "\n",
        "# model + optimizer\n",
        "score_model = torch.nn.DataParallel(ScoreNet(marginal_prob_std=marginal_prob_std_fn))\n",
        "score_model = score_model.to(device)\n",
        "optimizer = Adam(score_model.parameters(), lr=lr)\n",
        "\n",
        "# loss\n",
        "def loss_fn(model, x, marginal_prob_std, eps=1e-5):\n",
        "    random_t = torch.rand(x.shape[0], device=x.device) * (1. - eps) + eps  \n",
        "    z = torch.randn_like(x)\n",
        "    std = marginal_prob_std(random_t)\n",
        "    perturbed_x = x + z * std[:, None, None, None]\n",
        "    score = model(perturbed_x, random_t)\n",
        "    loss = torch.mean(torch.sum((score * std[:, None, None, None] + z)**2, dim=(1,2,3)))\n",
        "    return loss\n",
        "\n",
        "# checkpoint folder varies if on colab or local\n",
        "if IN_COLAB:\n",
        "    checkpoint_dir = './diffusion-for-photoacoustic/checkpoints/'\n",
        "else:\n",
        "    checkpoint_dir = './checkpoints/'"
      ]
    },
    {
      "cell_type": "markdown",
      "id": "8D1rzwBI-MCO",
      "metadata": {
        "id": "8D1rzwBI-MCO"
      },
      "source": [
        "## Training"
      ]
    },
    {
      "cell_type": "code",
      "execution_count": 4,
      "id": "SWJ7AlBl-LZM",
      "metadata": {
        "id": "SWJ7AlBl-LZM",
        "colab": {
          "base_uri": "https://localhost:8080/",
          "height": 49,
          "referenced_widgets": [
            "f902798ef2204d03b0fb9ebd22e608e9",
            "00faddd0d7504881a3f6a745585265c2",
            "55466cf28c7a4bbdac611061b09ea5ef",
            "e584f039f86d498cab50322422d85a8a",
            "94c1be5283344c63ac0886fcf1d1dd17",
            "f27333d226234c738f190095893cc06b",
            "5e28713d088249e8b09407e0d8eff536",
            "6275dda00f9b42d696a65d9d9e42acfd",
            "a5c8698f4b004144b2c758bdd4653360",
            "2191ddd8bc244339804350c0944b15a2",
            "18356e5fbf424a288f6039cb49afa6de"
          ]
        },
        "outputId": "bb4da7ca-4859-4c19-f0e9-cde3176beaa0"
      },
      "outputs": [
        {
          "output_type": "display_data",
          "data": {
            "text/plain": [
              "  0%|          | 0/50 [00:00<?, ?it/s]"
            ],
            "application/vnd.jupyter.widget-view+json": {
              "version_major": 2,
              "version_minor": 0,
              "model_id": "f902798ef2204d03b0fb9ebd22e608e9"
            }
          },
          "metadata": {}
        }
      ],
      "source": [
        "# training\n",
        "tqdm_epoch = tqdm.notebook.trange(n_epochs)\n",
        "for epoch in tqdm_epoch:\n",
        "    avg_loss = 0.\n",
        "    num_items = 0\n",
        "    for x, y in train_loader:\n",
        "        x = x.to(device)    \n",
        "        loss = loss_fn(score_model, x, marginal_prob_std_fn)\n",
        "        optimizer.zero_grad()\n",
        "        loss.backward()    \n",
        "        optimizer.step()\n",
        "        avg_loss += loss.item() * x.shape[0]\n",
        "        num_items += x.shape[0] \n",
        "    tqdm_epoch.set_description('Average Loss: {:5f}'.format(avg_loss / num_items))\n",
        "    torch.save(score_model.state_dict(), checkpoint_dir+'ckpt_{}_{}epochs_{}_{}.pth'.format(dataset.lower(), n_epochs, sde_type, params_str))"
      ]
    },
    {
      "cell_type": "markdown",
      "id": "311ed320",
      "metadata": {
        "id": "311ed320"
      },
      "source": [
        "## Generate"
      ]
    },
    {
      "cell_type": "code",
      "execution_count": 18,
      "id": "0afb0fdf",
      "metadata": {
        "id": "0afb0fdf"
      },
      "outputs": [],
      "source": [
        "# Load model\n",
        "score_model = torch.nn.DataParallel(ScoreNet(marginal_prob_std=marginal_prob_std_fn))\n",
        "score_model = score_model.to(device)\n",
        "model_pth = checkpoint_dir+'ckpt_{}_{}epochs_{}_{}.pth'.format(dataset.lower(), n_epochs, sde_type, params_str)\n",
        "ckpt = torch.load(model_pth, map_location=device)\n",
        "score_model.load_state_dict(ckpt)\n",
        "\n",
        "# Set up sampler\n",
        "def sample(sampler):\n",
        "    samples = sampler(score_model, \n",
        "                    marginal_prob_std_fn,\n",
        "                    diffusion_coeff_fn,\n",
        "                    drift_coeff_fn,\n",
        "                    batch_size, \n",
        "                    device=device)\n",
        "    return samples"
      ]
    },
    {
      "cell_type": "code",
      "execution_count": 19,
      "id": "180221f6",
      "metadata": {
        "colab": {
          "base_uri": "https://localhost:8080/",
          "height": 461,
          "referenced_widgets": [
            "e75d7524060e4e4797e0a0d7d07ef401",
            "c6d4f8888686472f9f9bcccf53ccc0f8",
            "c5c80f54f1b94737ad9ab35baa58c5df",
            "3f6a8d3ce85a4623afd6604a905c58b2",
            "66ba11a226784d5faebb4849e07d38e7",
            "bd13265c546f446e8e8e53a7ca826075",
            "7a8ad6742d484517b54e9ee89e048aa9",
            "402978e13d824736abb5a0da180b35a7",
            "c1f97c5248d34df79c5dc1cc1fee8cb5",
            "4bdcca3fb4a2466eafed48fa4049dc5a",
            "defd81b669a34d46a063d3b323c1519e"
          ]
        },
        "id": "180221f6",
        "outputId": "2ba9ef9e-5a03-4793-8718-cf57e1e075d0"
      },
      "outputs": [
        {
          "output_type": "display_data",
          "data": {
            "text/plain": [
              "  0%|          | 0/500 [00:00<?, ?it/s]"
            ],
            "application/vnd.jupyter.widget-view+json": {
              "version_major": 2,
              "version_minor": 0,
              "model_id": "e75d7524060e4e4797e0a0d7d07ef401"
            }
          },
          "metadata": {}
        },
        {
          "output_type": "stream",
          "name": "stderr",
          "text": [
            "./diffusion-for-photoacoustic/sdes.py:104: UserWarning: To copy construct from a tensor, it is recommended to use sourceTensor.clone().detach() or sourceTensor.clone().detach().requires_grad_(True), rather than torch.tensor(sourceTensor).\n",
            "  drift = torch.zeros_like(torch.tensor(x, device=t.device))\n",
            "WARNING:matplotlib.image:Clipping input data to the valid range for imshow with RGB data ([0..1] for floats or [0..255] for integers).\n"
          ]
        },
        {
          "output_type": "display_data",
          "data": {
            "text/plain": [
              "<Figure size 432x432 with 1 Axes>"
            ],
            "image/png": "[encoded data removed]"
          },
          "metadata": {
            "needs_background": "light"
          }
        }
      ],
      "source": [
        "# Generate samples\n",
        "samples = sample(sampler)\n",
        "samplers.plot_images(samples)"
      ]
    },
    {
      "cell_type": "markdown",
      "id": "fb1fea69",
      "metadata": {
        "id": "fb1fea69"
      },
      "source": [
        "## Denoise"
      ]
    },
    {
      "cell_type": "code",
      "execution_count": 21,
      "id": "9bf773e3",
      "metadata": {
        "id": "9bf773e3"
      },
      "outputs": [],
      "source": [
        "# Load model\n",
        "score_model = torch.nn.DataParallel(ScoreNet(marginal_prob_std=marginal_prob_std_fn))\n",
        "score_model = score_model.to(device)\n",
        "model_pth = checkpoint_dir+'ckpt_{}_{}epochs_{}_{}.pth'.format(dataset.lower(), n_epochs, sde_type, params_str)\n",
        "ckpt = torch.load(model_pth, map_location=device)\n",
        "score_model.load_state_dict(ckpt)\n",
        "\n",
        "# Set up denoiser\n",
        "def denoise(raw_images, denoiser, lbda=.5, lbda_schedule='constant', lbda_param=1):\n",
        "    denoised = denoiser(raw_images,\n",
        "                    score_model,\n",
        "                    lbda,\n",
        "                    marginal_prob_std_fn,\n",
        "                    diffusion_coeff_fn,\n",
        "                    drift_coeff_fn,\n",
        "                    lbda_schedule,\n",
        "                    lbda_param,\n",
        "                    device=device)\n",
        "    return denoised"
      ]
    },
    {
      "cell_type": "markdown",
      "id": "829a8957",
      "metadata": {
        "id": "829a8957"
      },
      "source": [
        "### Noisy images"
      ]
    },
    {
      "cell_type": "code",
      "execution_count": 44,
      "id": "b8ed3e53",
      "metadata": {
        "id": "b8ed3e53"
      },
      "outputs": [],
      "source": [
        "num_images = 5\n",
        "data, _ = next(iter(test_loader))\n",
        "noisy_images = data[:num_images].to(device)"
      ]
    },
    {
      "cell_type": "code",
      "execution_count": 45,
      "id": "217aafbb",
      "metadata": {
        "scrolled": true,
        "colab": {
          "base_uri": "https://localhost:8080/",
          "height": 188
        },
        "id": "217aafbb",
        "outputId": "c10c7fbb-0d96-4569-a9ee-9c1639a2b280"
      },
      "outputs": [
        {
          "output_type": "display_data",
          "data": {
            "text/plain": [
              "<Figure size 1152x576 with 5 Axes>"
            ],
            "image/png": "[encoded data removed]"
          },
          "metadata": {}
        }
      ],
      "source": [
        "fig, axs = plt.subplots(1, noisy_images.shape[0], figsize=(16, 8))\n",
        "for i, image in enumerate(noisy_images):\n",
        "    axs[i].imshow(image.cpu().permute(1, 2, 0).squeeze())\n",
        "    axs[i].set_xticks([])\n",
        "    axs[i].set_yticks([])"
      ]
    },
    {
      "cell_type": "markdown",
      "id": "d12f8778",
      "metadata": {
        "id": "d12f8778"
      },
      "source": [
        "### Denoising"
      ]
    },
    {
      "cell_type": "code",
      "execution_count": 53,
      "id": "0eac85fc",
      "metadata": {
        "scrolled": true,
        "colab": {
          "base_uri": "https://localhost:8080/",
          "height": 49,
          "referenced_widgets": [
            "2ede855736664e4ea0f51de8eeac8944",
            "d5b5e6563e06403d8c519cf7785196e1",
            "c8580e1b9e384eeeb2dde4a5579308c1",
            "cd780f92c6a142c29b02b666d27ee826",
            "2632efc9abb04c588d9feac1e247a055",
            "c050055fd658475a9146ef02d96ef10c",
            "a667e104a8c746beb49e62a2e84d8239",
            "f9c8bf03dcb741b78737f5d13a0adb93",
            "5b53f38025af4006a338603a66248ece",
            "79dcb4c8bda846b7a3a4458ac6914d9a",
            "49f590c0378b4df0ba7901e7fd1e0fb5"
          ]
        },
        "id": "0eac85fc",
        "outputId": "aaf996da-d64c-420c-9ee6-bdf65594fef3"
      },
      "outputs": [
        {
          "output_type": "display_data",
          "data": {
            "text/plain": [
              "  0%|          | 0/500 [00:00<?, ?it/s]"
            ],
            "application/vnd.jupyter.widget-view+json": {
              "version_major": 2,
              "version_minor": 0,
              "model_id": "2ede855736664e4ea0f51de8eeac8944"
            }
          },
          "metadata": {}
        }
      ],
      "source": [
        "denoised_images = denoise(noisy_images, denoiser, lbda=.01, lbda_schedule='exponential', lbda_param=10)"
      ]
    },
    {
      "cell_type": "code",
      "execution_count": 54,
      "id": "bc55ef85",
      "metadata": {
        "colab": {
          "base_uri": "https://localhost:8080/",
          "height": 188
        },
        "id": "bc55ef85",
        "outputId": "17fc23a5-2862-41e1-adad-28b3055f9732"
      },
      "outputs": [
        {
          "output_type": "display_data",
          "data": {
            "text/plain": [
              "<Figure size 1152x576 with 5 Axes>"
            ],
            "image/png": "[encoded data removed]"
          },
          "metadata": {}
        }
      ],
      "source": [
        "fig, axs = plt.subplots(1, denoised_images.shape[0], figsize=(16, 8))\n",
        "for i, image in enumerate(denoised_images):\n",
        "    axs[i].imshow(image.cpu().permute(1, 2, 0).squeeze())\n",
        "    axs[i].set_xticks([])\n",
        "    axs[i].set_yticks([])"
      ]
    }
  ],
  "metadata": {
    "accelerator": "GPU",
    "colab": {
      "provenance": []
    },
    "gpuClass": "premium",
    "kernelspec": {
      "display_name": "Python 3 (ipykernel)",
      "language": "python",
      "name": "python3"
    },
    "language_info": {
      "codemirror_mode": {
        "name": "ipython",
        "version": 3
      },
      "file_extension": ".py",
      "mimetype": "text/x-python",
      "name": "python",
      "nbconvert_exporter": "python",
      "pygments_lexer": "ipython3",
      "version": "3.10.6"
    },
    "toc": {
      "base_numbering": 1,
      "nav_menu": {},
      "number_sections": true,
      "sideBar": false,
      "skip_h1_title": true,
      "title_cell": "Table of Contents",
      "title_sidebar": "Contents",
      "toc_cell": true,
      "toc_position": {},
      "toc_section_display": true,
      "toc_window_display": false
    },
    "varInspector": {
      "cols": {
        "lenName": 16,
        "lenType": 16,
        "lenVar": 40
      },
      "kernels_config": {
        "python": {
          "delete_cmd_postfix": "",
          "delete_cmd_prefix": "del ",
          "library": "var_list.py",
          "varRefreshCmd": "print(var_dic_list())"
        },
        "r": {
          "delete_cmd_postfix": ") ",
          "delete_cmd_prefix": "rm(",
          "library": "var_list.r",
          "varRefreshCmd": "cat(var_dic_list()) "
        }
      },
      "types_to_exclude": [
        "module",
        "function",
        "builtin_function_or_method",
        "instance",
        "_Feature"
      ],
      "window_display": false
    },
    "widgets": {
      "application/vnd.jupyter.widget-state+json": {
        "7e5ab23a457a40d78c702be539b3dffa": {
          "model_module": "@jupyter-widgets/controls",
          "model_name": "HBoxModel",
          "model_module_version": "1.5.0",
          "state": {
            "_dom_classes": [],
            "_model_module": "@jupyter-widgets/controls",
            "_model_module_version": "1.5.0",
            "_model_name": "HBoxModel",
            "_view_count": null,
            "_view_module": "@jupyter-widgets/controls",
            "_view_module_version": "1.5.0",
            "_view_name": "HBoxView",
            "box_style": "",
            "children": [
              "IPY_MODEL_d0da80113ea3496abb3f9c2747ad61f9",
              "IPY_MODEL_40b86686c7cd479392360db7b6c9069e",
              "IPY_MODEL_c19e5ee78e45422f9adcec3aeba4b621"
            ],
            "layout": "IPY_MODEL_f3a25c24c7b243ccbca8037f06921f39"
          }
        },
        "d0da80113ea3496abb3f9c2747ad61f9": {
          "model_module": "@jupyter-widgets/controls",
          "model_name": "HTMLModel",
          "model_module_version": "1.5.0",
          "state": {
            "_dom_classes": [],
            "_model_module": "@jupyter-widgets/controls",
            "_model_module_version": "1.5.0",
            "_model_name": "HTMLModel",
            "_view_count": null,
            "_view_module": "@jupyter-widgets/controls",
            "_view_module_version": "1.5.0",
            "_view_name": "HTMLView",
            "description": "",
            "description_tooltip": null,
            "layout": "IPY_MODEL_83ac156f7ae34005bfac52bed88f95b6",
            "placeholder": "​",
            "style": "IPY_MODEL_a822d7254cca432fb1f6d32932bd4a71",
            "value": "100%"
          }
        },
        "40b86686c7cd479392360db7b6c9069e": {
          "model_module": "@jupyter-widgets/controls",
          "model_name": "FloatProgressModel",
          "model_module_version": "1.5.0",
          "state": {
            "_dom_classes": [],
            "_model_module": "@jupyter-widgets/controls",
            "_model_module_version": "1.5.0",
            "_model_name": "FloatProgressModel",
            "_view_count": null,
            "_view_module": "@jupyter-widgets/controls",
            "_view_module_version": "1.5.0",
            "_view_name": "ProgressView",
            "bar_style": "success",
            "description": "",
            "description_tooltip": null,
            "layout": "IPY_MODEL_66baf0c27a394a15829f1a94c374dfc3",
            "max": 170498071,
            "min": 0,
            "orientation": "horizontal",
            "style": "IPY_MODEL_f6eb67ba5067457dbf9ac4e15a8cf860",
            "value": 170498071
          }
        },
        "c19e5ee78e45422f9adcec3aeba4b621": {
          "model_module": "@jupyter-widgets/controls",
          "model_name": "HTMLModel",
          "model_module_version": "1.5.0",
          "state": {
            "_dom_classes": [],
            "_model_module": "@jupyter-widgets/controls",
            "_model_module_version": "1.5.0",
            "_model_name": "HTMLModel",
            "_view_count": null,
            "_view_module": "@jupyter-widgets/controls",
            "_view_module_version": "1.5.0",
            "_view_name": "HTMLView",
            "description": "",
            "description_tooltip": null,
            "layout": "IPY_MODEL_95837070cff244bda77f23a6802283a2",
            "placeholder": "​",
            "style": "IPY_MODEL_e8b4372c47fd4458ba63d15d3fa3a123",
            "value": " 170498071/170498071 [00:01&lt;00:00, 103385939.35it/s]"
          }
        },
        "f3a25c24c7b243ccbca8037f06921f39": {
          "model_module": "@jupyter-widgets/base",
          "model_name": "LayoutModel",
          "model_module_version": "1.2.0",
          "state": {
            "_model_module": "@jupyter-widgets/base",
            "_model_module_version": "1.2.0",
            "_model_name": "LayoutModel",
            "_view_count": null,
            "_view_module": "@jupyter-widgets/base",
            "_view_module_version": "1.2.0",
            "_view_name": "LayoutView",
            "align_content": null,
            "align_items": null,
            "align_self": null,
            "border": null,
            "bottom": null,
            "display": null,
            "flex": null,
            "flex_flow": null,
            "grid_area": null,
            "grid_auto_columns": null,
            "grid_auto_flow": null,
            "grid_auto_rows": null,
            "grid_column": null,
            "grid_gap": null,
            "grid_row": null,
            "grid_template_areas": null,
            "grid_template_columns": null,
            "grid_template_rows": null,
            "height": null,
            "justify_content": null,
            "justify_items": null,
            "left": null,
            "margin": null,
            "max_height": null,
            "max_width": null,
            "min_height": null,
            "min_width": null,
            "object_fit": null,
            "object_position": null,
            "order": null,
            "overflow": null,
            "overflow_x": null,
            "overflow_y": null,
            "padding": null,
            "right": null,
            "top": null,
            "visibility": null,
            "width": null
          }
        },
        "83ac156f7ae34005bfac52bed88f95b6": {
          "model_module": "@jupyter-widgets/base",
          "model_name": "LayoutModel",
          "model_module_version": "1.2.0",
          "state": {
            "_model_module": "@jupyter-widgets/base",
            "_model_module_version": "1.2.0",
            "_model_name": "LayoutModel",
            "_view_count": null,
            "_view_module": "@jupyter-widgets/base",
            "_view_module_version": "1.2.0",
            "_view_name": "LayoutView",
            "align_content": null,
            "align_items": null,
            "align_self": null,
            "border": null,
            "bottom": null,
            "display": null,
            "flex": null,
            "flex_flow": null,
            "grid_area": null,
            "grid_auto_columns": null,
            "grid_auto_flow": null,
            "grid_auto_rows": null,
            "grid_column": null,
            "grid_gap": null,
            "grid_row": null,
            "grid_template_areas": null,
            "grid_template_columns": null,
            "grid_template_rows": null,
            "height": null,
            "justify_content": null,
            "justify_items": null,
            "left": null,
            "margin": null,
            "max_height": null,
            "max_width": null,
            "min_height": null,
            "min_width": null,
            "object_fit": null,
            "object_position": null,
            "order": null,
            "overflow": null,
            "overflow_x": null,
            "overflow_y": null,
            "padding": null,
            "right": null,
            "top": null,
            "visibility": null,
            "width": null
          }
        },
        "a822d7254cca432fb1f6d32932bd4a71": {
          "model_module": "@jupyter-widgets/controls",
          "model_name": "DescriptionStyleModel",
          "model_module_version": "1.5.0",
          "state": {
            "_model_module": "@jupyter-widgets/controls",
            "_model_module_version": "1.5.0",
            "_model_name": "DescriptionStyleModel",
            "_view_count": null,
            "_view_module": "@jupyter-widgets/base",
            "_view_module_version": "1.2.0",
            "_view_name": "StyleView",
            "description_width": ""
          }
        },
        "66baf0c27a394a15829f1a94c374dfc3": {
          "model_module": "@jupyter-widgets/base",
          "model_name": "LayoutModel",
          "model_module_version": "1.2.0",
          "state": {
            "_model_module": "@jupyter-widgets/base",
            "_model_module_version": "1.2.0",
            "_model_name": "LayoutModel",
            "_view_count": null,
            "_view_module": "@jupyter-widgets/base",
            "_view_module_version": "1.2.0",
            "_view_name": "LayoutView",
            "align_content": null,
            "align_items": null,
            "align_self": null,
            "border": null,
            "bottom": null,
            "display": null,
            "flex": null,
            "flex_flow": null,
            "grid_area": null,
            "grid_auto_columns": null,
            "grid_auto_flow": null,
            "grid_auto_rows": null,
            "grid_column": null,
            "grid_gap": null,
            "grid_row": null,
            "grid_template_areas": null,
            "grid_template_columns": null,
            "grid_template_rows": null,
            "height": null,
            "justify_content": null,
            "justify_items": null,
            "left": null,
            "margin": null,
            "max_height": null,
            "max_width": null,
            "min_height": null,
            "min_width": null,
            "object_fit": null,
            "object_position": null,
            "order": null,
            "overflow": null,
            "overflow_x": null,
            "overflow_y": null,
            "padding": null,
            "right": null,
            "top": null,
            "visibility": null,
            "width": null
          }
        },
        "f6eb67ba5067457dbf9ac4e15a8cf860": {
          "model_module": "@jupyter-widgets/controls",
          "model_name": "ProgressStyleModel",
          "model_module_version": "1.5.0",
          "state": {
            "_model_module": "@jupyter-widgets/controls",
            "_model_module_version": "1.5.0",
            "_model_name": "ProgressStyleModel",
            "_view_count": null,
            "_view_module": "@jupyter-widgets/base",
            "_view_module_version": "1.2.0",
            "_view_name": "StyleView",
            "bar_color": null,
            "description_width": ""
          }
        },
        "95837070cff244bda77f23a6802283a2": {
          "model_module": "@jupyter-widgets/base",
          "model_name": "LayoutModel",
          "model_module_version": "1.2.0",
          "state": {
            "_model_module": "@jupyter-widgets/base",
            "_model_module_version": "1.2.0",
            "_model_name": "LayoutModel",
            "_view_count": null,
            "_view_module": "@jupyter-widgets/base",
            "_view_module_version": "1.2.0",
            "_view_name": "LayoutView",
            "align_content": null,
            "align_items": null,
            "align_self": null,
            "border": null,
            "bottom": null,
            "display": null,
            "flex": null,
            "flex_flow": null,
            "grid_area": null,
            "grid_auto_columns": null,
            "grid_auto_flow": null,
            "grid_auto_rows": null,
            "grid_column": null,
            "grid_gap": null,
            "grid_row": null,
            "grid_template_areas": null,
            "grid_template_columns": null,
            "grid_template_rows": null,
            "height": null,
            "justify_content": null,
            "justify_items": null,
            "left": null,
            "margin": null,
            "max_height": null,
            "max_width": null,
            "min_height": null,
            "min_width": null,
            "object_fit": null,
            "object_position": null,
            "order": null,
            "overflow": null,
            "overflow_x": null,
            "overflow_y": null,
            "padding": null,
            "right": null,
            "top": null,
            "visibility": null,
            "width": null
          }
        },
        "e8b4372c47fd4458ba63d15d3fa3a123": {
          "model_module": "@jupyter-widgets/controls",
          "model_name": "DescriptionStyleModel",
          "model_module_version": "1.5.0",
          "state": {
            "_model_module": "@jupyter-widgets/controls",
            "_model_module_version": "1.5.0",
            "_model_name": "DescriptionStyleModel",
            "_view_count": null,
            "_view_module": "@jupyter-widgets/base",
            "_view_module_version": "1.2.0",
            "_view_name": "StyleView",
            "description_width": ""
          }
        },
        "f902798ef2204d03b0fb9ebd22e608e9": {
          "model_module": "@jupyter-widgets/controls",
          "model_name": "HBoxModel",
          "model_module_version": "1.5.0",
          "state": {
            "_dom_classes": [],
            "_model_module": "@jupyter-widgets/controls",
            "_model_module_version": "1.5.0",
            "_model_name": "HBoxModel",
            "_view_count": null,
            "_view_module": "@jupyter-widgets/controls",
            "_view_module_version": "1.5.0",
            "_view_name": "HBoxView",
            "box_style": "",
            "children": [
              "IPY_MODEL_00faddd0d7504881a3f6a745585265c2",
              "IPY_MODEL_55466cf28c7a4bbdac611061b09ea5ef",
              "IPY_MODEL_e584f039f86d498cab50322422d85a8a"
            ],
            "layout": "IPY_MODEL_94c1be5283344c63ac0886fcf1d1dd17"
          }
        },
        "00faddd0d7504881a3f6a745585265c2": {
          "model_module": "@jupyter-widgets/controls",
          "model_name": "HTMLModel",
          "model_module_version": "1.5.0",
          "state": {
            "_dom_classes": [],
            "_model_module": "@jupyter-widgets/controls",
            "_model_module_version": "1.5.0",
            "_model_name": "HTMLModel",
            "_view_count": null,
            "_view_module": "@jupyter-widgets/controls",
            "_view_module_version": "1.5.0",
            "_view_name": "HTMLView",
            "description": "",
            "description_tooltip": null,
            "layout": "IPY_MODEL_f27333d226234c738f190095893cc06b",
            "placeholder": "​",
            "style": "IPY_MODEL_5e28713d088249e8b09407e0d8eff536",
            "value": "Average Loss: 233.729203: 100%"
          }
        },
        "55466cf28c7a4bbdac611061b09ea5ef": {
          "model_module": "@jupyter-widgets/controls",
          "model_name": "FloatProgressModel",
          "model_module_version": "1.5.0",
          "state": {
            "_dom_classes": [],
            "_model_module": "@jupyter-widgets/controls",
            "_model_module_version": "1.5.0",
            "_model_name": "FloatProgressModel",
            "_view_count": null,
            "_view_module": "@jupyter-widgets/controls",
            "_view_module_version": "1.5.0",
            "_view_name": "ProgressView",
            "bar_style": "success",
            "description": "",
            "description_tooltip": null,
            "layout": "IPY_MODEL_6275dda00f9b42d696a65d9d9e42acfd",
            "max": 50,
            "min": 0,
            "orientation": "horizontal",
            "style": "IPY_MODEL_a5c8698f4b004144b2c758bdd4653360",
            "value": 50
          }
        },
        "e584f039f86d498cab50322422d85a8a": {
          "model_module": "@jupyter-widgets/controls",
          "model_name": "HTMLModel",
          "model_module_version": "1.5.0",
          "state": {
            "_dom_classes": [],
            "_model_module": "@jupyter-widgets/controls",
            "_model_module_version": "1.5.0",
            "_model_name": "HTMLModel",
            "_view_count": null,
            "_view_module": "@jupyter-widgets/controls",
            "_view_module_version": "1.5.0",
            "_view_name": "HTMLView",
            "description": "",
            "description_tooltip": null,
            "layout": "IPY_MODEL_2191ddd8bc244339804350c0944b15a2",
            "placeholder": "​",
            "style": "IPY_MODEL_18356e5fbf424a288f6039cb49afa6de",
            "value": " 50/50 [10:21&lt;00:00, 11.98s/it]"
          }
        },
        "94c1be5283344c63ac0886fcf1d1dd17": {
          "model_module": "@jupyter-widgets/base",
          "model_name": "LayoutModel",
          "model_module_version": "1.2.0",
          "state": {
            "_model_module": "@jupyter-widgets/base",
            "_model_module_version": "1.2.0",
            "_model_name": "LayoutModel",
            "_view_count": null,
            "_view_module": "@jupyter-widgets/base",
            "_view_module_version": "1.2.0",
            "_view_name": "LayoutView",
            "align_content": null,
            "align_items": null,
            "align_self": null,
            "border": null,
            "bottom": null,
            "display": null,
            "flex": null,
            "flex_flow": null,
            "grid_area": null,
            "grid_auto_columns": null,
            "grid_auto_flow": null,
            "grid_auto_rows": null,
            "grid_column": null,
            "grid_gap": null,
            "grid_row": null,
            "grid_template_areas": null,
            "grid_template_columns": null,
            "grid_template_rows": null,
            "height": null,
            "justify_content": null,
            "justify_items": null,
            "left": null,
            "margin": null,
            "max_height": null,
            "max_width": null,
            "min_height": null,
            "min_width": null,
            "object_fit": null,
            "object_position": null,
            "order": null,
            "overflow": null,
            "overflow_x": null,
            "overflow_y": null,
            "padding": null,
            "right": null,
            "top": null,
            "visibility": null,
            "width": null
          }
        },
        "f27333d226234c738f190095893cc06b": {
          "model_module": "@jupyter-widgets/base",
          "model_name": "LayoutModel",
          "model_module_version": "1.2.0",
          "state": {
            "_model_module": "@jupyter-widgets/base",
            "_model_module_version": "1.2.0",
            "_model_name": "LayoutModel",
            "_view_count": null,
            "_view_module": "@jupyter-widgets/base",
            "_view_module_version": "1.2.0",
            "_view_name": "LayoutView",
            "align_content": null,
            "align_items": null,
            "align_self": null,
            "border": null,
            "bottom": null,
            "display": null,
            "flex": null,
            "flex_flow": null,
            "grid_area": null,
            "grid_auto_columns": null,
            "grid_auto_flow": null,
            "grid_auto_rows": null,
            "grid_column": null,
            "grid_gap": null,
            "grid_row": null,
            "grid_template_areas": null,
            "grid_template_columns": null,
            "grid_template_rows": null,
            "height": null,
            "justify_content": null,
            "justify_items": null,
            "left": null,
            "margin": null,
            "max_height": null,
            "max_width": null,
            "min_height": null,
            "min_width": null,
            "object_fit": null,
            "object_position": null,
            "order": null,
            "overflow": null,
            "overflow_x": null,
            "overflow_y": null,
            "padding": null,
            "right": null,
            "top": null,
            "visibility": null,
            "width": null
          }
        },
        "5e28713d088249e8b09407e0d8eff536": {
          "model_module": "@jupyter-widgets/controls",
          "model_name": "DescriptionStyleModel",
          "model_module_version": "1.5.0",
          "state": {
            "_model_module": "@jupyter-widgets/controls",
            "_model_module_version": "1.5.0",
            "_model_name": "DescriptionStyleModel",
            "_view_count": null,
            "_view_module": "@jupyter-widgets/base",
            "_view_module_version": "1.2.0",
            "_view_name": "StyleView",
            "description_width": ""
          }
        },
        "6275dda00f9b42d696a65d9d9e42acfd": {
          "model_module": "@jupyter-widgets/base",
          "model_name": "LayoutModel",
          "model_module_version": "1.2.0",
          "state": {
            "_model_module": "@jupyter-widgets/base",
            "_model_module_version": "1.2.0",
            "_model_name": "LayoutModel",
            "_view_count": null,
            "_view_module": "@jupyter-widgets/base",
            "_view_module_version": "1.2.0",
            "_view_name": "LayoutView",
            "align_content": null,
            "align_items": null,
            "align_self": null,
            "border": null,
            "bottom": null,
            "display": null,
            "flex": null,
            "flex_flow": null,
            "grid_area": null,
            "grid_auto_columns": null,
            "grid_auto_flow": null,
            "grid_auto_rows": null,
            "grid_column": null,
            "grid_gap": null,
            "grid_row": null,
            "grid_template_areas": null,
            "grid_template_columns": null,
            "grid_template_rows": null,
            "height": null,
            "justify_content": null,
            "justify_items": null,
            "left": null,
            "margin": null,
            "max_height": null,
            "max_width": null,
            "min_height": null,
            "min_width": null,
            "object_fit": null,
            "object_position": null,
            "order": null,
            "overflow": null,
            "overflow_x": null,
            "overflow_y": null,
            "padding": null,
            "right": null,
            "top": null,
            "visibility": null,
            "width": null
          }
        },
        "a5c8698f4b004144b2c758bdd4653360": {
          "model_module": "@jupyter-widgets/controls",
          "model_name": "ProgressStyleModel",
          "model_module_version": "1.5.0",
          "state": {
            "_model_module": "@jupyter-widgets/controls",
            "_model_module_version": "1.5.0",
            "_model_name": "ProgressStyleModel",
            "_view_count": null,
            "_view_module": "@jupyter-widgets/base",
            "_view_module_version": "1.2.0",
            "_view_name": "StyleView",
            "bar_color": null,
            "description_width": ""
          }
        },
        "2191ddd8bc244339804350c0944b15a2": {
          "model_module": "@jupyter-widgets/base",
          "model_name": "LayoutModel",
          "model_module_version": "1.2.0",
          "state": {
            "_model_module": "@jupyter-widgets/base",
            "_model_module_version": "1.2.0",
            "_model_name": "LayoutModel",
            "_view_count": null,
            "_view_module": "@jupyter-widgets/base",
            "_view_module_version": "1.2.0",
            "_view_name": "LayoutView",
            "align_content": null,
            "align_items": null,
            "align_self": null,
            "border": null,
            "bottom": null,
            "display": null,
            "flex": null,
            "flex_flow": null,
            "grid_area": null,
            "grid_auto_columns": null,
            "grid_auto_flow": null,
            "grid_auto_rows": null,
            "grid_column": null,
            "grid_gap": null,
            "grid_row": null,
            "grid_template_areas": null,
            "grid_template_columns": null,
            "grid_template_rows": null,
            "height": null,
            "justify_content": null,
            "justify_items": null,
            "left": null,
            "margin": null,
            "max_height": null,
            "max_width": null,
            "min_height": null,
            "min_width": null,
            "object_fit": null,
            "object_position": null,
            "order": null,
            "overflow": null,
            "overflow_x": null,
            "overflow_y": null,
            "padding": null,
            "right": null,
            "top": null,
            "visibility": null,
            "width": null
          }
        },
        "18356e5fbf424a288f6039cb49afa6de": {
          "model_module": "@jupyter-widgets/controls",
          "model_name": "DescriptionStyleModel",
          "model_module_version": "1.5.0",
          "state": {
            "_model_module": "@jupyter-widgets/controls",
            "_model_module_version": "1.5.0",
            "_model_name": "DescriptionStyleModel",
            "_view_count": null,
            "_view_module": "@jupyter-widgets/base",
            "_view_module_version": "1.2.0",
            "_view_name": "StyleView",
            "description_width": ""
          }
        },
        "e75d7524060e4e4797e0a0d7d07ef401": {
          "model_module": "@jupyter-widgets/controls",
          "model_name": "HBoxModel",
          "model_module_version": "1.5.0",
          "state": {
            "_dom_classes": [],
            "_model_module": "@jupyter-widgets/controls",
            "_model_module_version": "1.5.0",
            "_model_name": "HBoxModel",
            "_view_count": null,
            "_view_module": "@jupyter-widgets/controls",
            "_view_module_version": "1.5.0",
            "_view_name": "HBoxView",
            "box_style": "",
            "children": [
              "IPY_MODEL_c6d4f8888686472f9f9bcccf53ccc0f8",
              "IPY_MODEL_c5c80f54f1b94737ad9ab35baa58c5df",
              "IPY_MODEL_3f6a8d3ce85a4623afd6604a905c58b2"
            ],
            "layout": "IPY_MODEL_66ba11a226784d5faebb4849e07d38e7"
          }
        },
        "c6d4f8888686472f9f9bcccf53ccc0f8": {
          "model_module": "@jupyter-widgets/controls",
          "model_name": "HTMLModel",
          "model_module_version": "1.5.0",
          "state": {
            "_dom_classes": [],
            "_model_module": "@jupyter-widgets/controls",
            "_model_module_version": "1.5.0",
            "_model_name": "HTMLModel",
            "_view_count": null,
            "_view_module": "@jupyter-widgets/controls",
            "_view_module_version": "1.5.0",
            "_view_name": "HTMLView",
            "description": "",
            "description_tooltip": null,
            "layout": "IPY_MODEL_bd13265c546f446e8e8e53a7ca826075",
            "placeholder": "​",
            "style": "IPY_MODEL_7a8ad6742d484517b54e9ee89e048aa9",
            "value": "100%"
          }
        },
        "c5c80f54f1b94737ad9ab35baa58c5df": {
          "model_module": "@jupyter-widgets/controls",
          "model_name": "FloatProgressModel",
          "model_module_version": "1.5.0",
          "state": {
            "_dom_classes": [],
            "_model_module": "@jupyter-widgets/controls",
            "_model_module_version": "1.5.0",
            "_model_name": "FloatProgressModel",
            "_view_count": null,
            "_view_module": "@jupyter-widgets/controls",
            "_view_module_version": "1.5.0",
            "_view_name": "ProgressView",
            "bar_style": "success",
            "description": "",
            "description_tooltip": null,
            "layout": "IPY_MODEL_402978e13d824736abb5a0da180b35a7",
            "max": 500,
            "min": 0,
            "orientation": "horizontal",
            "style": "IPY_MODEL_c1f97c5248d34df79c5dc1cc1fee8cb5",
            "value": 500
          }
        },
        "3f6a8d3ce85a4623afd6604a905c58b2": {
          "model_module": "@jupyter-widgets/controls",
          "model_name": "HTMLModel",
          "model_module_version": "1.5.0",
          "state": {
            "_dom_classes": [],
            "_model_module": "@jupyter-widgets/controls",
            "_model_module_version": "1.5.0",
            "_model_name": "HTMLModel",
            "_view_count": null,
            "_view_module": "@jupyter-widgets/controls",
            "_view_module_version": "1.5.0",
            "_view_name": "HTMLView",
            "description": "",
            "description_tooltip": null,
            "layout": "IPY_MODEL_4bdcca3fb4a2466eafed48fa4049dc5a",
            "placeholder": "​",
            "style": "IPY_MODEL_defd81b669a34d46a063d3b323c1519e",
            "value": " 500/500 [00:03&lt;00:00, 127.27it/s]"
          }
        },
        "66ba11a226784d5faebb4849e07d38e7": {
          "model_module": "@jupyter-widgets/base",
          "model_name": "LayoutModel",
          "model_module_version": "1.2.0",
          "state": {
            "_model_module": "@jupyter-widgets/base",
            "_model_module_version": "1.2.0",
            "_model_name": "LayoutModel",
            "_view_count": null,
            "_view_module": "@jupyter-widgets/base",
            "_view_module_version": "1.2.0",
            "_view_name": "LayoutView",
            "align_content": null,
            "align_items": null,
            "align_self": null,
            "border": null,
            "bottom": null,
            "display": null,
            "flex": null,
            "flex_flow": null,
            "grid_area": null,
            "grid_auto_columns": null,
            "grid_auto_flow": null,
            "grid_auto_rows": null,
            "grid_column": null,
            "grid_gap": null,
            "grid_row": null,
            "grid_template_areas": null,
            "grid_template_columns": null,
            "grid_template_rows": null,
            "height": null,
            "justify_content": null,
            "justify_items": null,
            "left": null,
            "margin": null,
            "max_height": null,
            "max_width": null,
            "min_height": null,
            "min_width": null,
            "object_fit": null,
            "object_position": null,
            "order": null,
            "overflow": null,
            "overflow_x": null,
            "overflow_y": null,
            "padding": null,
            "right": null,
            "top": null,
            "visibility": null,
            "width": null
          }
        },
        "bd13265c546f446e8e8e53a7ca826075": {
          "model_module": "@jupyter-widgets/base",
          "model_name": "LayoutModel",
          "model_module_version": "1.2.0",
          "state": {
            "_model_module": "@jupyter-widgets/base",
            "_model_module_version": "1.2.0",
            "_model_name": "LayoutModel",
            "_view_count": null,
            "_view_module": "@jupyter-widgets/base",
            "_view_module_version": "1.2.0",
            "_view_name": "LayoutView",
            "align_content": null,
            "align_items": null,
            "align_self": null,
            "border": null,
            "bottom": null,
            "display": null,
            "flex": null,
            "flex_flow": null,
            "grid_area": null,
            "grid_auto_columns": null,
            "grid_auto_flow": null,
            "grid_auto_rows": null,
            "grid_column": null,
            "grid_gap": null,
            "grid_row": null,
            "grid_template_areas": null,
            "grid_template_columns": null,
            "grid_template_rows": null,
            "height": null,
            "justify_content": null,
            "justify_items": null,
            "left": null,
            "margin": null,
            "max_height": null,
            "max_width": null,
            "min_height": null,
            "min_width": null,
            "object_fit": null,
            "object_position": null,
            "order": null,
            "overflow": null,
            "overflow_x": null,
            "overflow_y": null,
            "padding": null,
            "right": null,
            "top": null,
            "visibility": null,
            "width": null
          }
        },
        "7a8ad6742d484517b54e9ee89e048aa9": {
          "model_module": "@jupyter-widgets/controls",
          "model_name": "DescriptionStyleModel",
          "model_module_version": "1.5.0",
          "state": {
            "_model_module": "@jupyter-widgets/controls",
            "_model_module_version": "1.5.0",
            "_model_name": "DescriptionStyleModel",
            "_view_count": null,
            "_view_module": "@jupyter-widgets/base",
            "_view_module_version": "1.2.0",
            "_view_name": "StyleView",
            "description_width": ""
          }
        },
        "402978e13d824736abb5a0da180b35a7": {
          "model_module": "@jupyter-widgets/base",
          "model_name": "LayoutModel",
          "model_module_version": "1.2.0",
          "state": {
            "_model_module": "@jupyter-widgets/base",
            "_model_module_version": "1.2.0",
            "_model_name": "LayoutModel",
            "_view_count": null,
            "_view_module": "@jupyter-widgets/base",
            "_view_module_version": "1.2.0",
            "_view_name": "LayoutView",
            "align_content": null,
            "align_items": null,
            "align_self": null,
            "border": null,
            "bottom": null,
            "display": null,
            "flex": null,
            "flex_flow": null,
            "grid_area": null,
            "grid_auto_columns": null,
            "grid_auto_flow": null,
            "grid_auto_rows": null,
            "grid_column": null,
            "grid_gap": null,
            "grid_row": null,
            "grid_template_areas": null,
            "grid_template_columns": null,
            "grid_template_rows": null,
            "height": null,
            "justify_content": null,
            "justify_items": null,
            "left": null,
            "margin": null,
            "max_height": null,
            "max_width": null,
            "min_height": null,
            "min_width": null,
            "object_fit": null,
            "object_position": null,
            "order": null,
            "overflow": null,
            "overflow_x": null,
            "overflow_y": null,
            "padding": null,
            "right": null,
            "top": null,
            "visibility": null,
            "width": null
          }
        },
        "c1f97c5248d34df79c5dc1cc1fee8cb5": {
          "model_module": "@jupyter-widgets/controls",
          "model_name": "ProgressStyleModel",
          "model_module_version": "1.5.0",
          "state": {
            "_model_module": "@jupyter-widgets/controls",
            "_model_module_version": "1.5.0",
            "_model_name": "ProgressStyleModel",
            "_view_count": null,
            "_view_module": "@jupyter-widgets/base",
            "_view_module_version": "1.2.0",
            "_view_name": "StyleView",
            "bar_color": null,
            "description_width": ""
          }
        },
        "4bdcca3fb4a2466eafed48fa4049dc5a": {
          "model_module": "@jupyter-widgets/base",
          "model_name": "LayoutModel",
          "model_module_version": "1.2.0",
          "state": {
            "_model_module": "@jupyter-widgets/base",
            "_model_module_version": "1.2.0",
            "_model_name": "LayoutModel",
            "_view_count": null,
            "_view_module": "@jupyter-widgets/base",
            "_view_module_version": "1.2.0",
            "_view_name": "LayoutView",
            "align_content": null,
            "align_items": null,
            "align_self": null,
            "border": null,
            "bottom": null,
            "display": null,
            "flex": null,
            "flex_flow": null,
            "grid_area": null,
            "grid_auto_columns": null,
            "grid_auto_flow": null,
            "grid_auto_rows": null,
            "grid_column": null,
            "grid_gap": null,
            "grid_row": null,
            "grid_template_areas": null,
            "grid_template_columns": null,
            "grid_template_rows": null,
            "height": null,
            "justify_content": null,
            "justify_items": null,
            "left": null,
            "margin": null,
            "max_height": null,
            "max_width": null,
            "min_height": null,
            "min_width": null,
            "object_fit": null,
            "object_position": null,
            "order": null,
            "overflow": null,
            "overflow_x": null,
            "overflow_y": null,
            "padding": null,
            "right": null,
            "top": null,
            "visibility": null,
            "width": null
          }
        },
        "defd81b669a34d46a063d3b323c1519e": {
          "model_module": "@jupyter-widgets/controls",
          "model_name": "DescriptionStyleModel",
          "model_module_version": "1.5.0",
          "state": {
            "_model_module": "@jupyter-widgets/controls",
            "_model_module_version": "1.5.0",
            "_model_name": "DescriptionStyleModel",
            "_view_count": null,
            "_view_module": "@jupyter-widgets/base",
            "_view_module_version": "1.2.0",
            "_view_name": "StyleView",
            "description_width": ""
          }
        },
        "2ede855736664e4ea0f51de8eeac8944": {
          "model_module": "@jupyter-widgets/controls",
          "model_name": "HBoxModel",
          "model_module_version": "1.5.0",
          "state": {
            "_dom_classes": [],
            "_model_module": "@jupyter-widgets/controls",
            "_model_module_version": "1.5.0",
            "_model_name": "HBoxModel",
            "_view_count": null,
            "_view_module": "@jupyter-widgets/controls",
            "_view_module_version": "1.5.0",
            "_view_name": "HBoxView",
            "box_style": "",
            "children": [
              "IPY_MODEL_d5b5e6563e06403d8c519cf7785196e1",
              "IPY_MODEL_c8580e1b9e384eeeb2dde4a5579308c1",
              "IPY_MODEL_cd780f92c6a142c29b02b666d27ee826"
            ],
            "layout": "IPY_MODEL_2632efc9abb04c588d9feac1e247a055"
          }
        },
        "d5b5e6563e06403d8c519cf7785196e1": {
          "model_module": "@jupyter-widgets/controls",
          "model_name": "HTMLModel",
          "model_module_version": "1.5.0",
          "state": {
            "_dom_classes": [],
            "_model_module": "@jupyter-widgets/controls",
            "_model_module_version": "1.5.0",
            "_model_name": "HTMLModel",
            "_view_count": null,
            "_view_module": "@jupyter-widgets/controls",
            "_view_module_version": "1.5.0",
            "_view_name": "HTMLView",
            "description": "",
            "description_tooltip": null,
            "layout": "IPY_MODEL_c050055fd658475a9146ef02d96ef10c",
            "placeholder": "​",
            "style": "IPY_MODEL_a667e104a8c746beb49e62a2e84d8239",
            "value": "100%"
          }
        },
        "c8580e1b9e384eeeb2dde4a5579308c1": {
          "model_module": "@jupyter-widgets/controls",
          "model_name": "FloatProgressModel",
          "model_module_version": "1.5.0",
          "state": {
            "_dom_classes": [],
            "_model_module": "@jupyter-widgets/controls",
            "_model_module_version": "1.5.0",
            "_model_name": "FloatProgressModel",
            "_view_count": null,
            "_view_module": "@jupyter-widgets/controls",
            "_view_module_version": "1.5.0",
            "_view_name": "ProgressView",
            "bar_style": "success",
            "description": "",
            "description_tooltip": null,
            "layout": "IPY_MODEL_f9c8bf03dcb741b78737f5d13a0adb93",
            "max": 500,
            "min": 0,
            "orientation": "horizontal",
            "style": "IPY_MODEL_5b53f38025af4006a338603a66248ece",
            "value": 500
          }
        },
        "cd780f92c6a142c29b02b666d27ee826": {
          "model_module": "@jupyter-widgets/controls",
          "model_name": "HTMLModel",
          "model_module_version": "1.5.0",
          "state": {
            "_dom_classes": [],
            "_model_module": "@jupyter-widgets/controls",
            "_model_module_version": "1.5.0",
            "_model_name": "HTMLModel",
            "_view_count": null,
            "_view_module": "@jupyter-widgets/controls",
            "_view_module_version": "1.5.0",
            "_view_name": "HTMLView",
            "description": "",
            "description_tooltip": null,
            "layout": "IPY_MODEL_79dcb4c8bda846b7a3a4458ac6914d9a",
            "placeholder": "​",
            "style": "IPY_MODEL_49f590c0378b4df0ba7901e7fd1e0fb5",
            "value": " 500/500 [00:03&lt;00:00, 138.46it/s]"
          }
        },
        "2632efc9abb04c588d9feac1e247a055": {
          "model_module": "@jupyter-widgets/base",
          "model_name": "LayoutModel",
          "model_module_version": "1.2.0",
          "state": {
            "_model_module": "@jupyter-widgets/base",
            "_model_module_version": "1.2.0",
            "_model_name": "LayoutModel",
            "_view_count": null,
            "_view_module": "@jupyter-widgets/base",
            "_view_module_version": "1.2.0",
            "_view_name": "LayoutView",
            "align_content": null,
            "align_items": null,
            "align_self": null,
            "border": null,
            "bottom": null,
            "display": null,
            "flex": null,
            "flex_flow": null,
            "grid_area": null,
            "grid_auto_columns": null,
            "grid_auto_flow": null,
            "grid_auto_rows": null,
            "grid_column": null,
            "grid_gap": null,
            "grid_row": null,
            "grid_template_areas": null,
            "grid_template_columns": null,
            "grid_template_rows": null,
            "height": null,
            "justify_content": null,
            "justify_items": null,
            "left": null,
            "margin": null,
            "max_height": null,
            "max_width": null,
            "min_height": null,
            "min_width": null,
            "object_fit": null,
            "object_position": null,
            "order": null,
            "overflow": null,
            "overflow_x": null,
            "overflow_y": null,
            "padding": null,
            "right": null,
            "top": null,
            "visibility": null,
            "width": null
          }
        },
        "c050055fd658475a9146ef02d96ef10c": {
          "model_module": "@jupyter-widgets/base",
          "model_name": "LayoutModel",
          "model_module_version": "1.2.0",
          "state": {
            "_model_module": "@jupyter-widgets/base",
            "_model_module_version": "1.2.0",
            "_model_name": "LayoutModel",
            "_view_count": null,
            "_view_module": "@jupyter-widgets/base",
            "_view_module_version": "1.2.0",
            "_view_name": "LayoutView",
            "align_content": null,
            "align_items": null,
            "align_self": null,
            "border": null,
            "bottom": null,
            "display": null,
            "flex": null,
            "flex_flow": null,
            "grid_area": null,
            "grid_auto_columns": null,
            "grid_auto_flow": null,
            "grid_auto_rows": null,
            "grid_column": null,
            "grid_gap": null,
            "grid_row": null,
            "grid_template_areas": null,
            "grid_template_columns": null,
            "grid_template_rows": null,
            "height": null,
            "justify_content": null,
            "justify_items": null,
            "left": null,
            "margin": null,
            "max_height": null,
            "max_width": null,
            "min_height": null,
            "min_width": null,
            "object_fit": null,
            "object_position": null,
            "order": null,
            "overflow": null,
            "overflow_x": null,
            "overflow_y": null,
            "padding": null,
            "right": null,
            "top": null,
            "visibility": null,
            "width": null
          }
        },
        "a667e104a8c746beb49e62a2e84d8239": {
          "model_module": "@jupyter-widgets/controls",
          "model_name": "DescriptionStyleModel",
          "model_module_version": "1.5.0",
          "state": {
            "_model_module": "@jupyter-widgets/controls",
            "_model_module_version": "1.5.0",
            "_model_name": "DescriptionStyleModel",
            "_view_count": null,
            "_view_module": "@jupyter-widgets/base",
            "_view_module_version": "1.2.0",
            "_view_name": "StyleView",
            "description_width": ""
          }
        },
        "f9c8bf03dcb741b78737f5d13a0adb93": {
          "model_module": "@jupyter-widgets/base",
          "model_name": "LayoutModel",
          "model_module_version": "1.2.0",
          "state": {
            "_model_module": "@jupyter-widgets/base",
            "_model_module_version": "1.2.0",
            "_model_name": "LayoutModel",
            "_view_count": null,
            "_view_module": "@jupyter-widgets/base",
            "_view_module_version": "1.2.0",
            "_view_name": "LayoutView",
            "align_content": null,
            "align_items": null,
            "align_self": null,
            "border": null,
            "bottom": null,
            "display": null,
            "flex": null,
            "flex_flow": null,
            "grid_area": null,
            "grid_auto_columns": null,
            "grid_auto_flow": null,
            "grid_auto_rows": null,
            "grid_column": null,
            "grid_gap": null,
            "grid_row": null,
            "grid_template_areas": null,
            "grid_template_columns": null,
            "grid_template_rows": null,
            "height": null,
            "justify_content": null,
            "justify_items": null,
            "left": null,
            "margin": null,
            "max_height": null,
            "max_width": null,
            "min_height": null,
            "min_width": null,
            "object_fit": null,
            "object_position": null,
            "order": null,
            "overflow": null,
            "overflow_x": null,
            "overflow_y": null,
            "padding": null,
            "right": null,
            "top": null,
            "visibility": null,
            "width": null
          }
        },
        "5b53f38025af4006a338603a66248ece": {
          "model_module": "@jupyter-widgets/controls",
          "model_name": "ProgressStyleModel",
          "model_module_version": "1.5.0",
          "state": {
            "_model_module": "@jupyter-widgets/controls",
            "_model_module_version": "1.5.0",
            "_model_name": "ProgressStyleModel",
            "_view_count": null,
            "_view_module": "@jupyter-widgets/base",
            "_view_module_version": "1.2.0",
            "_view_name": "StyleView",
            "bar_color": null,
            "description_width": ""
          }
        },
        "79dcb4c8bda846b7a3a4458ac6914d9a": {
          "model_module": "@jupyter-widgets/base",
          "model_name": "LayoutModel",
          "model_module_version": "1.2.0",
          "state": {
            "_model_module": "@jupyter-widgets/base",
            "_model_module_version": "1.2.0",
            "_model_name": "LayoutModel",
            "_view_count": null,
            "_view_module": "@jupyter-widgets/base",
            "_view_module_version": "1.2.0",
            "_view_name": "LayoutView",
            "align_content": null,
            "align_items": null,
            "align_self": null,
            "border": null,
            "bottom": null,
            "display": null,
            "flex": null,
            "flex_flow": null,
            "grid_area": null,
            "grid_auto_columns": null,
            "grid_auto_flow": null,
            "grid_auto_rows": null,
            "grid_column": null,
            "grid_gap": null,
            "grid_row": null,
            "grid_template_areas": null,
            "grid_template_columns": null,
            "grid_template_rows": null,
            "height": null,
            "justify_content": null,
            "justify_items": null,
            "left": null,
            "margin": null,
            "max_height": null,
            "max_width": null,
            "min_height": null,
            "min_width": null,
            "object_fit": null,
            "object_position": null,
            "order": null,
            "overflow": null,
            "overflow_x": null,
            "overflow_y": null,
            "padding": null,
            "right": null,
            "top": null,
            "visibility": null,
            "width": null
          }
        },
        "49f590c0378b4df0ba7901e7fd1e0fb5": {
          "model_module": "@jupyter-widgets/controls",
          "model_name": "DescriptionStyleModel",
          "model_module_version": "1.5.0",
          "state": {
            "_model_module": "@jupyter-widgets/controls",
            "_model_module_version": "1.5.0",
            "_model_name": "DescriptionStyleModel",
            "_view_count": null,
            "_view_module": "@jupyter-widgets/base",
            "_view_module_version": "1.2.0",
            "_view_name": "StyleView",
            "description_width": ""
          }
        }
      }
    }
  },
  "nbformat": 4,
  "nbformat_minor": 5
}