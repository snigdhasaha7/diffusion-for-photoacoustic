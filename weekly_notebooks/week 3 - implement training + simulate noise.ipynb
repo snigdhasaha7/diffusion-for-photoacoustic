{
 "cells": [
  {
   "cell_type": "code",
   "execution_count": 7,
   "id": "c874fb52",
   "metadata": {},
   "outputs": [],
   "source": [
    "import os\n",
    "import sys\n",
    "import functools\n",
    "import torch\n",
    "import tqdm\n",
    "import numpy as np\n",
    "import matplotlib.pyplot as plt\n",
    "import torchvision.transforms as transforms\n",
    "from torchvision.datasets import MNIST\n",
    "from torch.optim import Adam\n",
    "from torch.utils.data import DataLoader"
   ]
  },
  {
   "cell_type": "code",
   "execution_count": 8,
   "id": "32618c00",
   "metadata": {},
   "outputs": [],
   "source": [
    "# if run locally: add parent path\n",
    "parent_dir = os.path.dirname(os.getcwd())\n",
    "sys.path.append(parent_dir)\n",
    "\n",
    "from models import ScoreNet"
   ]
  },
  {
   "cell_type": "markdown",
   "id": "9ee90d6d",
   "metadata": {
    "toc": true
   },
   "source": [
    "<h1>Table of Contents<span class=\"tocSkip\"></span></h1>\n",
    "<div class=\"toc\"><ul class=\"toc-item\"><li><span><a href=\"#Load-dataset\" data-toc-modified-id=\"Load-dataset-1\"><span class=\"toc-item-num\">1&nbsp;&nbsp;</span>Load dataset</a></span></li><li><span><a href=\"#Diffusion:-Incrementally-add-noise-to-an-image\" data-toc-modified-id=\"Diffusion:-Incrementally-add-noise-to-an-image-2\"><span class=\"toc-item-num\">2&nbsp;&nbsp;</span>Diffusion: Incrementally add noise to an image</a></span></li><li><span><a href=\"#Training:-Estimate-the-score\" data-toc-modified-id=\"Training:-Estimate-the-score-3\"><span class=\"toc-item-num\">3&nbsp;&nbsp;</span>Training: Estimate the score</a></span><ul class=\"toc-item\"><li><span><a href=\"#Diffusion-coefficient\" data-toc-modified-id=\"Diffusion-coefficient-3.1\"><span class=\"toc-item-num\">3.1&nbsp;&nbsp;</span>Diffusion coefficient</a></span></li><li><span><a href=\"#Marginals\" data-toc-modified-id=\"Marginals-3.2\"><span class=\"toc-item-num\">3.2&nbsp;&nbsp;</span>Marginals</a></span></li></ul></li></ul></div>"
   ]
  },
  {
   "cell_type": "markdown",
   "id": "a4380e86",
   "metadata": {},
   "source": [
    "## Load dataset"
   ]
  },
  {
   "cell_type": "code",
   "execution_count": null,
   "id": "d2ea35de",
   "metadata": {},
   "outputs": [],
   "source": [
    "# load mnist\n",
    "dataset = MNIST('.', train=True, transform=transforms.ToTensor(), download=True);\n",
    "data_loader = DataLoader(dataset, batch_size=32, shuffle=True)"
   ]
  },
  {
   "cell_type": "markdown",
   "id": "514912d6",
   "metadata": {},
   "source": [
    "## Diffusion: Incrementally add noise to an image"
   ]
  },
  {
   "cell_type": "code",
   "execution_count": null,
   "id": "98ab9c05",
   "metadata": {},
   "outputs": [],
   "source": [
    "def perturb(x_0, t, sigma=5):\n",
    "    ''' Perturb a raw image x_0 with some diffusion noise at level t\n",
    "        args:\n",
    "            x_0: np.array, 2D image\n",
    "            t: int, level of perturbation (from 0 to 1)\n",
    "            sigma: influences the magnitude of noise\n",
    "        return:\n",
    "            x_t: np.array, perturbed image\n",
    "    '''\n",
    "    # noise follows Normal(0,I) --> we use randn (rand is for uniform)\n",
    "    noise = torch.randn_like(x_0)\n",
    "    \n",
    "    # s_t depends on a parameter sigma\n",
    "    s_t = (sigma**(2*t) - 1) / (2*np.log(sigma))\n",
    "    x_t = x_0 + s_t * noise\n",
    "    return x_t\n",
    "\n",
    "images, _ = next(iter(data_loader))\n",
    "image = images[0]"
   ]
  },
  {
   "cell_type": "code",
   "execution_count": null,
   "id": "1811e047",
   "metadata": {
    "scrolled": true
   },
   "outputs": [],
   "source": [
    "fig, axs = plt.subplots(1,9, figsize=(20, 2))\n",
    "for i, t in enumerate(np.linspace(0., 1., num=9)):\n",
    "    perturbed = perturb(image, t, sigma=5)\n",
    "    axs[i].imshow(perturbed.permute(1, 2, 0).squeeze()\n",
    "                  #, vmin=0., vmax=1.\n",
    "                 )\n",
    "    axs[i].title.set_text(\"{:.2f}\".format(t))\n",
    "plt.savefig('progressive_diffusion.pdf')  \n",
    "plt.show()"
   ]
  },
  {
   "cell_type": "markdown",
   "id": "b59863f3",
   "metadata": {},
   "source": [
    "## Training: Estimate the score"
   ]
  },
  {
   "cell_type": "markdown",
   "id": "fdff42e9",
   "metadata": {},
   "source": [
    "We perturb the data distribution $p_0$ to our prior $p_T$ using a simple diffusion SDE with parameter $\\sigma$:\n",
    "\\begin{align}\n",
    "d \\mathbf{x} = \\sigma^t d\\mathbf{w}, \\quad t\\in[0,1]\n",
    "\\end{align}\n",
    "\n",
    "This follows the general SDE form $d \\mathbf{x} = f(\\mathbf{x}, t) dt + g(t) d \\mathbf{w}$ which has the general conditional linear Gaussian distribution: $p(x_0|x_t) = \\mathcal{N}(x_t; \\alpha(t)x_0, \\beta^2(t)I)$ where $\\alpha: [0,1] \\rightarrow \\mathbb{R}$,  $\\beta: [0,1] \\rightarrow \\mathbb{R}$.\n",
    "\n",
    "In $\\textit{Applied Stochastic Differential Equations}$ by Särkkä and Solin (2019), we learn that $\\alpha, \\beta$ can be derived analytically from $f(\\mathbf{x}, t), g(t)$. In our case, we have:\n",
    "\n",
    "\\begin{align*}\n",
    "\\begin{cases}\n",
    "  f(\\mathbf{x}, t) = 0 \\\\\n",
    "  g(t) = \\sigma ^t\n",
    "\\end{cases}\n",
    "\\longrightarrow\n",
    "\\begin{cases}\n",
    "  \\alpha(t) = 1 \\\\\n",
    "  \\beta^2(t) = \\frac{\\sigma^{2t}-1}{2\\log\\sigma}\n",
    "\\end{cases}\n",
    "\\end{align*}\n",
    "\n",
    "Therefore:\n",
    "\\begin{align*}\n",
    "  p(x_0|x_t) = \\mathcal{N}(x_t; x_0, \\frac{\\sigma^{2t}-1}{2\\log\\sigma}I)\n",
    "\\end{align*}"
   ]
  },
  {
   "cell_type": "markdown",
   "id": "836e49a3",
   "metadata": {},
   "source": [
    "### Diffusion coefficient\n",
    "We define our coefficient following our SDE: $d \\mathbf{x} = \\sigma^t d\\mathbf{w}$."
   ]
  },
  {
   "cell_type": "code",
   "execution_count": null,
   "id": "9f3b537b",
   "metadata": {},
   "outputs": [],
   "source": [
    "def diffusion_coeff(t, sigma):\n",
    "    ''' Define the diffuion coefficient for SDE of choice: g=sigma**t\n",
    "        args:\n",
    "            t: torch vector, vector of time steps\n",
    "            sigma: diffusion parameter in our SDE\n",
    "        return:\n",
    "            coeffs: vector of diffusion coefficients\n",
    "    '''\n",
    "    coeffs = sigma**t\n",
    "    return coeffs"
   ]
  },
  {
   "cell_type": "markdown",
   "id": "449d129a",
   "metadata": {},
   "source": [
    "### Marginals\n",
    "We define our mean and variance for $ p(x_0|x_t)$ following Särkkä and Solin: $\\mu = x_0$, $Var = \\frac{\\sigma^{2t}-1}{2\\log\\sigma}I$"
   ]
  },
  {
   "cell_type": "code",
   "execution_count": null,
   "id": "c97b9e61",
   "metadata": {},
   "outputs": [],
   "source": [
    "def marginal_prob(t, sigma):\n",
    "    ''' Compute the mean and standard deviation of p(x(t)|x(0)) for each given\n",
    "        timestep t, specifically for perturbation f=0, g=sigma**t\n",
    "        args:\n",
    "            t: torch vector, vector of time steps\n",
    "            sigma: diffusion parameter in our SDE\n",
    "        return:\n",
    "            (mean, var): parameters of the conditional linear Gaussian\n",
    "    '''\n",
    "    mean = 1\n",
    "    var = (sigma**(2*t) - 1) / (2*np.log(sigma))\n",
    "    # Yang Song's implem of the NNet expects only var output\n",
    "    #return mean, var\n",
    "    return var"
   ]
  },
  {
   "cell_type": "markdown",
   "id": "9dece10d",
   "metadata": {},
   "source": [
    "The denoising score matching objective is built upon:\n",
    "\\begin{align}\n",
    "\\min_\\theta \\|s_\\theta(\\mathbf{x}(t), t) - \\nabla_{\\mathbf{x}(t)}\\log p_{0t}(\\mathbf{x}(t) \\mid \\mathbf{x}(0))\\|_2^2\n",
    "\\end{align}\n",
    "\n",
    "Rewriting the score function: \n",
    "\n",
    "$\\log p(x_t) = -\\frac{1}{2\\sigma_t^2} \\|x_t\\|_2^2 \\quad \\Rightarrow \\quad \\nabla_x \\log p(x_t) = \\frac{1}{\\sigma_t^2}x_t = -\\frac{1}{\\sigma_t}z$\n",
    "\n",
    "The loss is the L2 norm of the difference between the score function and our learned estimate $s_\\theta(\\mathbf{x}, t)$:\n",
    "\\begin{align}\n",
    "\\|-\\frac{-1}{\\sigma_t}z + s_\\theta(\\mathbf{x}, t)\\|_2^2\n",
    "&= \\|\\frac{1}{\\sigma_t}z + s_\\theta(\\mathbf{x}, t)\\|_2^2 \\\\\n",
    "&= \\|\\frac{1}{\\sigma_t}(z + \\sigma_t s_\\theta(\\mathbf{x}, t))\\|_2^2 \\\\\n",
    "&= \\frac{1}{\\sigma_t^2} \\|z + \\sigma_t s_\\theta(\\mathbf{x}, t)\\|_2^2\n",
    "\\end{align}\n",
    "\n",
    "Noting that $\\frac{1}{\\sigma_t^2}$ is a scaling constant for our loss and is not of importance for the optimization problem wrt $\\theta$, we establish our loss function to compute:\n",
    "\n",
    "\\begin{align}\n",
    "\\text{Loss} = \\|z + \\sigma_t s_\\theta(\\mathbf{x}, t)\\|_2^2\n",
    "\\end{align}"
   ]
  },
  {
   "cell_type": "code",
   "execution_count": null,
   "id": "fbb79fa0",
   "metadata": {},
   "outputs": [],
   "source": [
    "def loss_function(model, x, marginal_prob_t, eps=1e-5):\n",
    "    ''' Score-estimation loss function\n",
    "        args:\n",
    "            model: torch model for time-dependent score-based generative modeling\n",
    "            x: torch vector, mini-batch of training data\n",
    "            marginal_prob_t: mean and variance of perturbed kernel, param=t\n",
    "            eps: jitter added to noise for numerical stability\n",
    "        return:\n",
    "            loss: \n",
    "    '''\n",
    "    # Setup for perturbations at random time steps t\n",
    "    random_t = torch.rand(x.shape[0], device=x.device) * (1. - eps) + eps\n",
    "    z = torch.randn_like(x)\n",
    "    var = marginal_prob_t(random_t)\n",
    "    var = var[:, None, None, None]\n",
    "    \n",
    "    # Perturb for our SDE's alpha=mean=1, beta^2=var from marginal_prob_t \n",
    "    perturbed_x = x + z * var\n",
    "    \n",
    "    # Obtain score estimates for our perturbed xs from model\n",
    "    scores = model(perturbed_x, random_t)\n",
    "    \n",
    "    # Compute loss\n",
    "    loss = torch.mean(torch.sum((scores * var + z)**2, dim=(1,2,3)))\n",
    "    return loss"
   ]
  },
  {
   "cell_type": "code",
   "execution_count": null,
   "id": "b9c74f05",
   "metadata": {},
   "outputs": [],
   "source": [
    "device = 'cpu'\n",
    "sigma = 25.\n",
    "n_epochs = 10\n",
    "batch_size = 32\n",
    "lr = 1e-4\n",
    "\n",
    "# Pass parameter by default and change prototype\n",
    "marginal_prob_fn = functools.partial(marginal_prob, sigma=sigma)\n",
    "diffusion_coeff_fn = functools.partial(diffusion_coeff, sigma=sigma)\n",
    "\n",
    "# Setup data\n",
    "dataset = MNIST('.', train=True, transform=transforms.ToTensor(), download=True)\n",
    "data_loader = DataLoader(dataset, batch_size=batch_size, shuffle=True, num_workers=4)\n",
    "\n",
    "# Setup model and optimizer\n",
    "score_model = torch.nn.DataParallel(ScoreNet(marginal_prob_std=marginal_prob_fn))\n",
    "score_model = score_model.to(device)\n",
    "optimizer = Adam(score_model.parameters(), lr=lr)\n",
    "\n",
    "tqdm_epoch = tqdm.notebook.trange(n_epochs)\n",
    "for epoch in tqdm_epoch:\n",
    "    avg_loss = 0.\n",
    "    num_items = 0\n",
    "    for x, y in data_loader:\n",
    "        x = x.to(device)    \n",
    "        loss = loss_function(score_model, x, marginal_prob_fn)\n",
    "        optimizer.zero_grad()\n",
    "        loss.backward()    \n",
    "        optimizer.step()\n",
    "        avg_loss += loss.item() * x.shape[0]\n",
    "        num_items += x.shape[0]\n",
    "    \n",
    "    tqdm_epoch.set_description('Average Loss: {:5f}'.format(avg_loss / num_items))\n",
    "    # Update the checkpoint after each epoch of training.\n",
    "    #torch.save(score_model.state_dict(), 'ckpt.pth')"
   ]
  }
 ],
 "metadata": {
  "kernelspec": {
   "display_name": "Python 3 (ipykernel)",
   "language": "python",
   "name": "python3"
  },
  "language_info": {
   "codemirror_mode": {
    "name": "ipython",
    "version": 3
   },
   "file_extension": ".py",
   "mimetype": "text/x-python",
   "name": "python",
   "nbconvert_exporter": "python",
   "pygments_lexer": "ipython3",
   "version": "3.10.6"
  },
  "toc": {
   "base_numbering": 1,
   "nav_menu": {},
   "number_sections": true,
   "sideBar": false,
   "skip_h1_title": true,
   "title_cell": "Table of Contents",
   "title_sidebar": "Contents",
   "toc_cell": true,
   "toc_position": {},
   "toc_section_display": true,
   "toc_window_display": false
  },
  "varInspector": {
   "cols": {
    "lenName": 16,
    "lenType": 16,
    "lenVar": 40
   },
   "kernels_config": {
    "python": {
     "delete_cmd_postfix": "",
     "delete_cmd_prefix": "del ",
     "library": "var_list.py",
     "varRefreshCmd": "print(var_dic_list())"
    },
    "r": {
     "delete_cmd_postfix": ") ",
     "delete_cmd_prefix": "rm(",
     "library": "var_list.r",
     "varRefreshCmd": "cat(var_dic_list()) "
    }
   },
   "types_to_exclude": [
    "module",
    "function",
    "builtin_function_or_method",
    "instance",
    "_Feature"
   ],
   "window_display": false
  }
 },
 "nbformat": 4,
 "nbformat_minor": 5
}
